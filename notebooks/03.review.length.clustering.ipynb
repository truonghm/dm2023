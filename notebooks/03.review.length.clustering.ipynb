{
 "cells": [
  {
   "cell_type": "code",
   "execution_count": 3,
   "metadata": {},
   "outputs": [],
   "source": [
    "import json\n",
    "# import pandas as pd\n",
    "import numpy as np"
   ]
  },
  {
   "cell_type": "code",
   "execution_count": 268,
   "metadata": {},
   "outputs": [],
   "source": [
    "REVIEW_PATH = \"../data/yelp_academic_dataset_review.json\"\n",
    "\n",
    "def read_data(limit: int) -> np.ndarray:\n",
    "    lengths = []\n",
    "    with open(REVIEW_PATH) as f:\n",
    "        for idx, line in enumerate(f):\n",
    "            if idx >= limit:\n",
    "                break\n",
    "            lengths.append(len(json.loads(line)[\"text\"]))\n",
    "\n",
    "    # lengths = np.array([[l] for l in lengths])\n",
    "    lengths = np.array(lengths)\n",
    "    return lengths\n",
    "\n",
    "lengths = read_data(1000)"
   ]
  },
  {
   "attachments": {},
   "cell_type": "markdown",
   "metadata": {},
   "source": [
    "# Agglomerative Hierarchical Clustering\n",
    "\n",
    "\n",
    "Basic algorithm\n",
    "```\n",
    "\tCompute the proximity matrix\n",
    "\tLet each data point be a cluster\n",
    "\tRepeat\n",
    "\t\tCalculate distance between clusters\n",
    "\t\tMerge the two closest clusters\n",
    "\tUntil only a single cluster remains\n",
    "```"
   ]
  },
  {
   "cell_type": "code",
   "execution_count": 182,
   "metadata": {},
   "outputs": [
    {
     "name": "stdout",
     "output_type": "stream",
     "text": [
      "(10, 10)\n"
     ]
    }
   ],
   "source": [
    "# def calculate_distance(cluster1, cluster2, prox_func: str):\n",
    "#     prox_funcs = {\n",
    "#         \"min\": np.min,\n",
    "#         \"max\": np.max,\n",
    "#     }\n",
    "#     distances = []\n",
    "#     for i in range(len(cluster1)):\n",
    "#         for j in range(len(cluster2)):\n",
    "#             distances.append(np.abs(cluster1[i] - cluster2[j]))\n",
    "\n",
    "#     return prox_funcs[prox_func](distances)\n",
    "\n",
    "def calculate_distance(x, y):\n",
    "    return abs(x - y)\n",
    "\n",
    "def calculate_proxmity_matrix(array):\n",
    "\n",
    "    matrix = np.zeros((len(array), len(array)))\n",
    "    for i in range(len(array)):\n",
    "        for j in range(len(array)):\n",
    "            distance = calculate_distance(array[i][0], array[j][0])\n",
    "            if i == j:\n",
    "                matrix[i][j] = np.nan\n",
    "            else:\n",
    "                matrix[i][j] = distance\n",
    "                    \n",
    "    return matrix\n",
    "\n",
    "# print(prox_matrix.shape)"
   ]
  },
  {
   "cell_type": "code",
   "execution_count": 269,
   "metadata": {},
   "outputs": [],
   "source": [
    "def hierarchical_clustering(arr: np.ndarray, prox_func: str = \"min\", n_clusters: int = 3):\n",
    "    \"\"\"\n",
    "    algorithm:\n",
    "    create a numpy array with shape = (len(arr), len(arr)), \n",
    "    with the first element of each row being the element of arr, and the other elements being np.nan\n",
    "    find the min distance in the prox matrix, and find the corresponding pair of clusters\n",
    "    merge the two clusters by replacing np.nan of the first cluster with the other cluster\n",
    "    delete clusters with only nan\n",
    "    update the prox matrix by:\n",
    "        - merging rows of the 2 clusters into the first clusters by taking the minimum distance, element wise\n",
    "        - delete the row and column of the second cluster\n",
    "    \"\"\"\n",
    "\n",
    "    prox_funcs = {\n",
    "        \"min\": np.minimum,\n",
    "        \"max\": np.maximum,\n",
    "    }\n",
    "\n",
    "    # prox_matrix = calculate_proxmity_matrix(arr)\n",
    "    prox_matrix = np.abs(arr[:, np.newaxis] - arr)\n",
    "    prox_matrix = prox_matrix.astype('float')\n",
    "    prox_matrix[prox_matrix == 0.] = np.nan\n",
    "\n",
    "    n = len(arr)\n",
    "    new_arr = np.zeros((n, n))\n",
    "    for i in range(len(arr)):\n",
    "        new_arr[i][0] = arr[i]\n",
    "        new_arr[i][1:] = np.nan\n",
    "\n",
    "    # print(new_arr.shape)\n",
    "\n",
    "    # print(len(new_arr))\n",
    "    while len(new_arr) > n_clusters:\n",
    "        # print(len(new_arr))\n",
    "        min_dist = np.nanmin(prox_matrix)\n",
    "        # print(min_dist)\n",
    "        min_dist_idx = np.argwhere(prox_matrix == min_dist)[0]\n",
    "        # print(min_dist_idx)\n",
    "        # min_dist_idx = (min_dist_idx[0][0], min_dist_idx[1][0])\n",
    "\n",
    "        # print(min_dist_idx)\n",
    "\n",
    "        # cluster1 = new_arr[min_dist_idx[0]]\n",
    "        # cluster2 = new_arr[min_dist_idx[1]]\n",
    "        # print(prox_matrix)\n",
    "        # print(new_arr)\n",
    "        next_nonzero_idx = np.count_nonzero(~np.isnan(new_arr[min_dist_idx[0]]))\n",
    "        # print(next_nonzero_idx)\n",
    "        new_arr[min_dist_idx[0]][next_nonzero_idx:] = new_arr[min_dist_idx[1]][:-next_nonzero_idx]\n",
    "\n",
    "        # delete cluster2\n",
    "\n",
    "        new_arr = np.delete(new_arr, min_dist_idx[1], axis=0)\n",
    "\n",
    "        # update prox matrix\n",
    "        prox_matrix[min_dist_idx[0]] = prox_funcs[prox_func](prox_matrix[min_dist_idx[0]], prox_matrix[min_dist_idx[1]])\n",
    "        prox_matrix = np.delete(prox_matrix, min_dist_idx[1], axis=0)\n",
    "        prox_matrix = np.delete(prox_matrix, min_dist_idx[1], axis=1)\n",
    "\n",
    "    return new_arr"
   ]
  },
  {
   "cell_type": "code",
   "execution_count": 275,
   "metadata": {},
   "outputs": [
    {
     "name": "stdout",
     "output_type": "stream",
     "text": [
      "2.1924805641174316\n"
     ]
    }
   ],
   "source": [
    "import time\n",
    "\n",
    "start = time.time()\n",
    "result = hierarchical_clustering(lengths, \"max\", 3)\n",
    "end = time.time()\n",
    "\n",
    "print(end - start)"
   ]
  },
  {
   "cell_type": "code",
   "execution_count": 276,
   "metadata": {},
   "outputs": [
    {
     "name": "stdout",
     "output_type": "stream",
     "text": [
      "4\n",
      "586\n",
      "410\n"
     ]
    }
   ],
   "source": [
    "for cluster in result:\n",
    "    print(np.count_nonzero(~np.isnan(cluster)))"
   ]
  },
  {
   "cell_type": "code",
   "execution_count": 277,
   "metadata": {},
   "outputs": [
    {
     "data": {
      "image/png": "[encoded data removed]",
      "text/plain": [
       "<Figure size 640x480 with 1 Axes>"
      ]
     },
     "metadata": {},
     "output_type": "display_data"
    }
   ],
   "source": [
    "import matplotlib.pyplot as plt\n",
    "\n",
    "colors = ['red', 'green', 'blue']\n",
    "\n",
    "# Plot the clusters\n",
    "for i, cluster in enumerate(result):\n",
    "    plt.scatter(cluster, [i] * len(cluster), c=colors[i], label=f'Cluster {i+1}')\n",
    "\n",
    "# Customize the plot\n",
    "plt.xlabel('Data')\n",
    "plt.ylabel('Cluster')\n",
    "plt.legend()\n",
    "plt.title('1D Clustering Result')\n",
    "plt.yticks([0,1,2])\n",
    "\n",
    "# Display the plot\n",
    "plt.show()\n"
   ]
  }
 ],
 "metadata": {
  "kernelspec": {
   "display_name": "Python 3",
   "language": "python",
   "name": "python3"
  },
  "language_info": {
   "codemirror_mode": {
    "name": "ipython",
    "version": 3
   },
   "file_extension": ".py",
   "mimetype": "text/x-python",
   "name": "python",
   "nbconvert_exporter": "python",
   "pygments_lexer": "ipython3",
   "version": "3.10.11"
  },
  "orig_nbformat": 4
 },
 "nbformat": 4,
 "nbformat_minor": 2
}
